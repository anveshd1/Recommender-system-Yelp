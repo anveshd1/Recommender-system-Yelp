{
 "cells": [
  {
   "cell_type": "code",
   "execution_count": 1,
   "metadata": {
    "scrolled": false
   },
   "outputs": [
    {
     "name": "stderr",
     "output_type": "stream",
     "text": [
      "Skipping install of 'recommenderlab' from a github remote, the SHA1 (acc0ac6e) has not changed since last install.\n",
      "  Use `force = TRUE` to force installation\n",
      "Loading required package: Matrix\n",
      "Loading required package: arules\n",
      "\n",
      "Attaching package: 'arules'\n",
      "\n",
      "The following objects are masked from 'package:base':\n",
      "\n",
      "    abbreviate, write\n",
      "\n",
      "Loading required package: proxy\n",
      "\n",
      "Attaching package: 'proxy'\n",
      "\n",
      "The following object is masked from 'package:Matrix':\n",
      "\n",
      "    as.matrix\n",
      "\n",
      "The following objects are masked from 'package:stats':\n",
      "\n",
      "    as.dist, dist\n",
      "\n",
      "The following object is masked from 'package:base':\n",
      "\n",
      "    as.matrix\n",
      "\n",
      "Loading required package: registry\n"
     ]
    }
   ],
   "source": [
    "#load libraries\n",
    "library(devtools)\n",
    "install_github(\"mhahsler/recommenderlab\")\n",
    "library(recommenderlab)"
   ]
  },
  {
   "cell_type": "code",
   "execution_count": 2,
   "metadata": {
    "collapsed": true
   },
   "outputs": [],
   "source": [
    "# Importing the Charlotte Data\n",
    "yelp_clt <- read.csv(\"yelp_cltfinal.csv\")"
   ]
  },
  {
   "cell_type": "code",
   "execution_count": 4,
   "metadata": {},
   "outputs": [
    {
     "data": {
      "text/html": [
       "<table>\n",
       "<thead><tr><th scope=col>X</th><th scope=col>user_id</th><th scope=col>business_id</th><th scope=col>stars</th><th scope=col>date</th></tr></thead>\n",
       "<tbody>\n",
       "\t<tr><td>9557                  </td><td>rfeoOzsisnfEEvb__5ucxA</td><td>8rIDfnWHSo-K0Xb9Y1gjrA</td><td>1                     </td><td>2016-05-16            </td></tr>\n",
       "\t<tr><td>9563                  </td><td>hVidDZUvOiy3xl0v3WKJlg</td><td>8rIDfnWHSo-K0Xb9Y1gjrA</td><td>4                     </td><td>2016-10-06            </td></tr>\n",
       "\t<tr><td>9566                  </td><td>LNLDqexYQC_R60TR13otHA</td><td>8rIDfnWHSo-K0Xb9Y1gjrA</td><td>5                     </td><td>2017-07-03            </td></tr>\n",
       "\t<tr><td>9567                  </td><td>XE36pmSiByd4YtSiPkn9_A</td><td>8rIDfnWHSo-K0Xb9Y1gjrA</td><td>5                     </td><td>2017-03-19            </td></tr>\n",
       "\t<tr><td>9568                  </td><td>VtLzjpIShbOtxYlEujka6A</td><td>8rIDfnWHSo-K0Xb9Y1gjrA</td><td>4                     </td><td>2015-02-20            </td></tr>\n",
       "\t<tr><td>9571                  </td><td>Aciq1ddPC6jeQHLB0vZKVA</td><td>8rIDfnWHSo-K0Xb9Y1gjrA</td><td>4                     </td><td>2015-06-24            </td></tr>\n",
       "</tbody>\n",
       "</table>\n"
      ],
      "text/latex": [
       "\\begin{tabular}{r|lllll}\n",
       " X & user\\_id & business\\_id & stars & date\\\\\n",
       "\\hline\n",
       "\t 9557                       & rfeoOzsisnfEEvb\\_\\_5ucxA & 8rIDfnWHSo-K0Xb9Y1gjrA     & 1                          & 2016-05-16                \\\\\n",
       "\t 9563                   & hVidDZUvOiy3xl0v3WKJlg & 8rIDfnWHSo-K0Xb9Y1gjrA & 4                      & 2016-10-06            \\\\\n",
       "\t 9566                     & LNLDqexYQC\\_R60TR13otHA & 8rIDfnWHSo-K0Xb9Y1gjrA   & 5                        & 2017-07-03              \\\\\n",
       "\t 9567                     & XE36pmSiByd4YtSiPkn9\\_A & 8rIDfnWHSo-K0Xb9Y1gjrA   & 5                        & 2017-03-19              \\\\\n",
       "\t 9568                   & VtLzjpIShbOtxYlEujka6A & 8rIDfnWHSo-K0Xb9Y1gjrA & 4                      & 2015-02-20            \\\\\n",
       "\t 9571                   & Aciq1ddPC6jeQHLB0vZKVA & 8rIDfnWHSo-K0Xb9Y1gjrA & 4                      & 2015-06-24            \\\\\n",
       "\\end{tabular}\n"
      ],
      "text/markdown": [
       "\n",
       "X | user_id | business_id | stars | date | \n",
       "|---|---|---|---|---|---|\n",
       "| 9557                   | rfeoOzsisnfEEvb__5ucxA | 8rIDfnWHSo-K0Xb9Y1gjrA | 1                      | 2016-05-16             | \n",
       "| 9563                   | hVidDZUvOiy3xl0v3WKJlg | 8rIDfnWHSo-K0Xb9Y1gjrA | 4                      | 2016-10-06             | \n",
       "| 9566                   | LNLDqexYQC_R60TR13otHA | 8rIDfnWHSo-K0Xb9Y1gjrA | 5                      | 2017-07-03             | \n",
       "| 9567                   | XE36pmSiByd4YtSiPkn9_A | 8rIDfnWHSo-K0Xb9Y1gjrA | 5                      | 2017-03-19             | \n",
       "| 9568                   | VtLzjpIShbOtxYlEujka6A | 8rIDfnWHSo-K0Xb9Y1gjrA | 4                      | 2015-02-20             | \n",
       "| 9571                   | Aciq1ddPC6jeQHLB0vZKVA | 8rIDfnWHSo-K0Xb9Y1gjrA | 4                      | 2015-06-24             | \n",
       "\n",
       "\n"
      ],
      "text/plain": [
       "  X    user_id                business_id            stars date      \n",
       "1 9557 rfeoOzsisnfEEvb__5ucxA 8rIDfnWHSo-K0Xb9Y1gjrA 1     2016-05-16\n",
       "2 9563 hVidDZUvOiy3xl0v3WKJlg 8rIDfnWHSo-K0Xb9Y1gjrA 4     2016-10-06\n",
       "3 9566 LNLDqexYQC_R60TR13otHA 8rIDfnWHSo-K0Xb9Y1gjrA 5     2017-07-03\n",
       "4 9567 XE36pmSiByd4YtSiPkn9_A 8rIDfnWHSo-K0Xb9Y1gjrA 5     2017-03-19\n",
       "5 9568 VtLzjpIShbOtxYlEujka6A 8rIDfnWHSo-K0Xb9Y1gjrA 4     2015-02-20\n",
       "6 9571 Aciq1ddPC6jeQHLB0vZKVA 8rIDfnWHSo-K0Xb9Y1gjrA 4     2015-06-24"
      ]
     },
     "metadata": {},
     "output_type": "display_data"
    }
   ],
   "source": [
    "head(yelp_clt)"
   ]
  },
  {
   "cell_type": "markdown",
   "metadata": {},
   "source": [
    "The user_id, business_id are alpha numeric. So comparisions and computations are faster when done on numeric identifiers. Therefore, we are converting all the user_id's and business_id's to similar numeric values."
   ]
  },
  {
   "cell_type": "code",
   "execution_count": 3,
   "metadata": {},
   "outputs": [
    {
     "data": {
      "text/html": [
       "<table>\n",
       "<thead><tr><th scope=col>date</th><th scope=col>user_id</th><th scope=col>business_id</th><th scope=col>stars</th></tr></thead>\n",
       "<tbody>\n",
       "\t<tr><td>2016-05-16</td><td>1         </td><td>1         </td><td>1         </td></tr>\n",
       "\t<tr><td>2016-10-06</td><td>2         </td><td>1         </td><td>4         </td></tr>\n",
       "\t<tr><td>2017-07-03</td><td>3         </td><td>1         </td><td>5         </td></tr>\n",
       "\t<tr><td>2017-03-19</td><td>4         </td><td>1         </td><td>5         </td></tr>\n",
       "\t<tr><td>2015-02-20</td><td>5         </td><td>1         </td><td>4         </td></tr>\n",
       "\t<tr><td>2015-06-24</td><td>6         </td><td>1         </td><td>4         </td></tr>\n",
       "</tbody>\n",
       "</table>\n"
      ],
      "text/latex": [
       "\\begin{tabular}{r|llll}\n",
       " date & user\\_id & business\\_id & stars\\\\\n",
       "\\hline\n",
       "\t 2016-05-16 & 1          & 1          & 1         \\\\\n",
       "\t 2016-10-06 & 2          & 1          & 4         \\\\\n",
       "\t 2017-07-03 & 3          & 1          & 5         \\\\\n",
       "\t 2017-03-19 & 4          & 1          & 5         \\\\\n",
       "\t 2015-02-20 & 5          & 1          & 4         \\\\\n",
       "\t 2015-06-24 & 6          & 1          & 4         \\\\\n",
       "\\end{tabular}\n"
      ],
      "text/markdown": [
       "\n",
       "date | user_id | business_id | stars | \n",
       "|---|---|---|---|---|---|\n",
       "| 2016-05-16 | 1          | 1          | 1          | \n",
       "| 2016-10-06 | 2          | 1          | 4          | \n",
       "| 2017-07-03 | 3          | 1          | 5          | \n",
       "| 2017-03-19 | 4          | 1          | 5          | \n",
       "| 2015-02-20 | 5          | 1          | 4          | \n",
       "| 2015-06-24 | 6          | 1          | 4          | \n",
       "\n",
       "\n"
      ],
      "text/plain": [
       "  date       user_id business_id stars\n",
       "1 2016-05-16 1       1           1    \n",
       "2 2016-10-06 2       1           4    \n",
       "3 2017-07-03 3       1           5    \n",
       "4 2017-03-19 4       1           5    \n",
       "5 2015-02-20 5       1           4    \n",
       "6 2015-06-24 6       1           4    "
      ]
     },
     "metadata": {},
     "output_type": "display_data"
    }
   ],
   "source": [
    "#Converting user_id and business_id into numeric keys from alphanumeric \n",
    "yelp_clt_df <- yelp_clt[c(5,2,3,4)]\n",
    "yelp_clt_df$user_id <- as.numeric(factor(yelp_clt_df$user_id, levels=unique(yelp_clt_df$user_id)))\n",
    "yelp_clt_df$business_id <- as.numeric(factor(yelp_clt_df$business_id, levels=unique(yelp_clt_df$business_id)))\n",
    "yelp_clt_df$stars = as.numeric(yelp_clt_df$stars)\n",
    "#yelp_clt_df = yelp_clt_df[c(4,5,6)]\n",
    "head(yelp_clt_df)"
   ]
  },
  {
   "cell_type": "code",
   "execution_count": 6,
   "metadata": {},
   "outputs": [
    {
     "name": "stderr",
     "output_type": "stream",
     "text": [
      "Loading required package: gsubfn\n",
      "Warning message:\n",
      "\"package 'gsubfn' was built under R version 3.4.3\"Loading required package: proto\n",
      "Warning message:\n",
      "\"package 'proto' was built under R version 3.4.3\"Could not load tcltk.  Will use slower R code instead.\n",
      "Loading required package: RSQLite\n"
     ]
    },
    {
     "data": {},
     "metadata": {},
     "output_type": "display_data"
    },
    {
     "data": {
      "image/png": "[encoded data removed]",
      "text/plain": [
       "plot without title"
      ]
     },
     "metadata": {},
     "output_type": "display_data"
    }
   ],
   "source": [
    "library(ggplot2)\n",
    "library(sqldf)\n",
    "df <- sqldf(\"select user_id, avg(stars) as Mean_stars from yelp_clt_df group by user_id\")\n",
    "#Setting the options for plot\n",
    "options(repr.plot.width=6, repr.plot.height=4)\n",
    "# distributon of product mean scores\n",
    "ggplot(df, aes(Mean_stars)) +\n",
    "  geom_histogram(binwidth = 0.05)"
   ]
  },
  {
   "cell_type": "code",
   "execution_count": 4,
   "metadata": {
    "collapsed": true
   },
   "outputs": [],
   "source": [
    "# Using the recommenderlab package we are converting the dataframe into realRatingMatrix object\n",
    "#This stores the data in the sparse format\n",
    "yelp_clt_RatingMatrix <- as(yelp_clt_df[c(2,3,4)], \"realRatingMatrix\")\n",
    "#realRatingMatrix  <- normalize(r, method=\"Z-score\")\n",
    "#realRatingMatrix  <- normalize(r, method=\"center\")"
   ]
  },
  {
   "cell_type": "code",
   "execution_count": 8,
   "metadata": {
    "scrolled": false
   },
   "outputs": [
    {
     "name": "stderr",
     "output_type": "stream",
     "text": [
      "   [[ suppressing 271 column names '1', '2', '3' ... ]]\n"
     ]
    },
    {
     "data": {
      "text/plain": [
       "6 x 271 sparse Matrix of class \"dgCMatrix\"\n",
       "                                                                               \n",
       "1 1 . . . . . . . . . . . . . . . . . . . . . . . . . . . . . . . . . . . . . .\n",
       "2 4 . . . . . . . . . . . . . . . . . . . 5 . . 5 . . . 5 . 5 . . . . . . . . .\n",
       "3 5 . . . . . . . . . . . . . . . . . . . . . . . . . . . . . . . . . . . . . .\n",
       "4 5 . . . . . . . . . . . . . . . . . . . . . . . 5 . . . 5 . . . 4 . . . . . .\n",
       "5 4 . . . . . . . 4 3 . . . . . . . . . . . . . . . . . . . . . . . . . 2 . . .\n",
       "6 4 . . . . . . . . . 3 . . . . 4 . . . . 5 . . . . . . . . . . . 3 . . . . . .\n",
       "                                                                               \n",
       "1 . . . . . . . . . . . . . . . . . . . . . . 2 . . . . . . . . . . . . . . . .\n",
       "2 . 5 . . . 5 . . 4 . . . . . . . . . . . . 3 4 . . . . . . 4 . . . . . . . . .\n",
       "3 . . . . . . . . . . . . . . . . . . . . . . . . . . . . . . . . . . . 5 . . .\n",
       "4 . . . . . . . 5 . . . . . . . . . . . . . . . . . . . . . . . . . . . . . . .\n",
       "5 3 . . . . . . . . . . . . . . . . . . . . . . . . . . . . . . . . . . . . . .\n",
       "6 . 1 . 4 . 3 4 . . . 4 . . . . . . . . . . . . . . . . . 4 . . . . . . . . . .\n",
       "                                                                               \n",
       "1 . . . . . . . . . . . . . . . . . . . . . . . . . . . . . . . . . . . . . . .\n",
       "2 . . . . . . 4 . . . . . . 5 . . . . . . . 5 . . . . . . . . . . . . . . . . .\n",
       "3 . . . . . . . . . . . . . . . . . . . . . . . . 4 . . . . . . 4 . . . . . . .\n",
       "4 . . . . . . . . . . . . . . . . . . . 4 . . . . . . . . . . . . . . . . . . .\n",
       "5 . . . . . . . . . . . . . . . . . . . . . . . . . . . . . . . . . . . . . . .\n",
       "6 . . . . . . . . . . . . . . . . . . . . . . . . 4 . . . . 2 . . . . . . . . .\n",
       "                                                                               \n",
       "1 . . . . . . . . . . . . . . . . . . . . . . . . . . . . . . . . . . . . . . .\n",
       "2 . . 4 5 . 5 4 . . . . . 4 . . . . . . . . 5 . . . . 4 . . 4 . . . . . 4 . . .\n",
       "3 . . . . . . . . . . . . . . . . 2 . . . . . . . . . . . . . . . . . . . . . .\n",
       "4 . . . . . . . . . . . . . . . . . . . . . . . . . . . . . . . . . . . . . . .\n",
       "5 . . . . . . . . . . . . . . . . . . 4 . . . . . . . . 4 . . . . . . . . . . .\n",
       "6 . . . . . . . . 5 . . . . . . . . 5 . . . . . . . . . . . . . . . . . . . . .\n",
       "                                                                               \n",
       "1 . . . . . . . . . . . . 5 . . . . . . . . . . . . . . . . . . . . . . . . . 5\n",
       "2 . . . . . . . . . . . . . . . . . . . . . . . . 4 . . . . . . 4 . . 4 . . . .\n",
       "3 . . . . . . . . . . . . . . . . . . . . . . . . . . . 3 . . . . . . 4 . . . .\n",
       "4 . . . . . . . . . . . . . . . . . . . . . . . . 4 . . . . . . . . . . . . . .\n",
       "5 . . . . . . . . . . . . . . . . . . . . . . . . . . . . 5 . . . . . 5 . . . .\n",
       "6 . . . . 4 . . . . . . . . . . . . . . . . . . . . . . . . . . . . . . . . . .\n",
       "                                                                               \n",
       "1 . . . . . . . . . . . . . . . 5 . . . . . . . . . . . . . . . . . . . . . . .\n",
       "2 . . . . . 4 . . . . . . . . 4 4 . . . . . . . 4 . . . . . . 4 . . . . 3 . . .\n",
       "3 . . . . . . . . . . . . . . . . . . . . . . . . . . . . . . . . . . . . . . .\n",
       "4 . . . . . . . . . . . . . . . . . . . . . . . . . . . . . . . . . . . . . . .\n",
       "5 . . . . . . . . . . . . . . . . . . . . . . . . 4 . . . . . . . . . . 5 . . .\n",
       "6 4 . . 4 5 . . . . . . . 4 . . . . . . . . . . . . . . . . . . . . 4 . . . 4 .\n",
       "                                                                           \n",
       "1 . . . . . . 2 . . . . . . . . . . . . . . . . . . . . . . . . . . . . . .\n",
       "2 . 5 . . . . . 5 . . . . . . . . . . . . . . . . . . . . . . . . 4 4 . . .\n",
       "3 . . . . . . . . . . . . . . . . . . . . . . . . . . . . . . . . . 3 . . .\n",
       "4 . . . . . . . . . . . . . . . . . . . . . . . . . . . . . . . . . . 5 . .\n",
       "5 . . . . . . . . . . . . . . . . . . . . . . . . . . . . . . . 4 . . . . .\n",
       "6 . . . . . . . . . . . . . . . . . . 3 . . . . . . . . . . . . 3 . . . . ."
      ]
     },
     "metadata": {},
     "output_type": "display_data"
    }
   ],
   "source": [
    "head(getRatingMatrix(yelp_clt_RatingMatrix))"
   ]
  },
  {
   "cell_type": "code",
   "execution_count": 12,
   "metadata": {
    "collapsed": true
   },
   "outputs": [],
   "source": [
    "#Below are the different hyper paramters tried on the recommender models \n",
    "#param=list(normalize = \"Z-score\",method=\"Cosine\",nn=5, minRating=1)\n",
    "recommenders <- list(\n",
    "                     \"ALS\" = list(name=\"ALS\", param=NULL),\n",
    "                    \"IBCF\" = list(name=\"IBCF\",param=NULL ),\n",
    "                    \"SVD\" = list(name=\"SVD\", param=NULL),\n",
    "                    \"SVDF\" = list(name=\"SVDF\", param=NULL),\n",
    "                    \"Popular\" = list(name=\"POPULAR\", param=NULL), \n",
    "                    \"UBCF\" = list(name=\"UBCF\", param=NULL),\n",
    "                    \"Random\" = list(name=\"RANDOM\", param=NULL)\n",
    "                    )"
   ]
  },
  {
   "cell_type": "code",
   "execution_count": 30,
   "metadata": {},
   "outputs": [
    {
     "name": "stdout",
     "output_type": "stream",
     "text": [
      "ALS run fold/sample [model time/prediction time]\n",
      "\t 1  "
     ]
    },
    {
     "name": "stderr",
     "output_type": "stream",
     "text": [
      "Timing stopped at: 1.02 0 1.01\n"
     ]
    },
    {
     "name": "stdout",
     "output_type": "stream",
     "text": [
      "IBCF run fold/sample [model time/prediction time]\n",
      "\t 1  [0.21sec/0.01sec] \n",
      "\t 2  [0.17sec/0.03sec] \n",
      "\t 3  [0.23sec/0.03sec] \n",
      "\t 4  [0.33sec/0.03sec] \n",
      "\t 5  [0.19sec/0.02sec] \n",
      "SVD run fold/sample [model time/prediction time]\n",
      "\t 1  [0.03sec/0.03sec] \n",
      "\t 2  [0.04sec/0.04sec] \n",
      "\t 3  [0.05sec/0.16sec] \n",
      "\t 4  [0.03sec/0.05sec] \n",
      "\t 5  [0.03sec/0.05sec] \n",
      "SVDF run fold/sample [model time/prediction time]\n",
      "\t 1  [24sec/2.62sec] \n",
      "\t 2  [24.8sec/2.72sec] \n",
      "\t 3  [26.5sec/2.74sec] \n",
      "\t 4  [23.4sec/2.5sec] \n",
      "\t 5  [24.34sec/2.77sec] \n",
      "POPULAR run fold/sample [model time/prediction time]\n",
      "\t 1  [0.02sec/0.01sec] \n",
      "\t 2  [0sec/0.01sec] \n",
      "\t 3  [0sec/0.01sec] \n",
      "\t 4  [0sec/0.03sec] \n",
      "\t 5  [0sec/0sec] \n",
      "UBCF run fold/sample [model time/prediction time]\n",
      "\t 1  [0sec/0.39sec] \n",
      "\t 2  [0sec/0.28sec] \n",
      "\t 3  [0sec/0.28sec] \n",
      "\t 4  [0.02sec/0.27sec] \n",
      "\t 5  [0sec/0.39sec] \n",
      "RANDOM run fold/sample [model time/prediction time]\n",
      "\t 1  [0sec/0.03sec] \n",
      "\t 2  [0sec/0.03sec] \n",
      "\t 3  [0sec/0.03sec] \n",
      "\t 4  [0sec/0.02sec] \n",
      "\t 5  [0sec/0.03sec] \n"
     ]
    },
    {
     "name": "stderr",
     "output_type": "stream",
     "text": [
      "Warning message in .local(x, method, ...):\n",
      "\"\n",
      "  Recommender 'ALS' has failed and has been removed from the results!\""
     ]
    },
    {
     "data": {
      "image/png": "[encoded data removed]",
      "text/plain": [
       "plot without title"
      ]
     },
     "metadata": {},
     "output_type": "display_data"
    }
   ],
   "source": [
    "#Setting the options for plot\n",
    "options(repr.plot.width=6, repr.plot.height=6)\n",
    "#schema\n",
    "Yelp_clt_schema <- evaluationScheme(yelp_clt_RatingMatrix, method=\"cross\", k = 5, given=-1, goodRating=4)\n",
    "# RMSE values for of all recommenders\n",
    "Recommender_output <- evaluate(Yelp_clt_schema, recommenders, type = \"ratings\")\n",
    "plot(Recommender_output, ylim = c(0,3))"
   ]
  },
  {
   "cell_type": "markdown",
   "metadata": {},
   "source": [
    "###### Spliting the Data into train and test to evaluate TP, TN, FP, FN, Precision and recall  on each of the recommenders"
   ]
  },
  {
   "cell_type": "code",
   "execution_count": 5,
   "metadata": {
    "collapsed": true
   },
   "outputs": [],
   "source": [
    "#Splitting the Data into Training and Testing\n",
    "Yelp_clt_schema <- evaluationScheme(yelp_clt_RatingMatrix, method=\"split\", train = 0.8, given=-1, goodRating=4)\n",
    "train_data <- getData(Yelp_clt_schema,\"train\")\n",
    "test_data <-  getData(Yelp_clt_schema, \"unknown\")"
   ]
  },
  {
   "cell_type": "markdown",
   "metadata": {},
   "source": [
    "###### Training the Recommender models"
   ]
  },
  {
   "cell_type": "code",
   "execution_count": 7,
   "metadata": {
    "collapsed": true
   },
   "outputs": [],
   "source": [
    "ALS <- Recommender(train_data, \"ALS\")\n",
    "IBCF <- Recommender(train_data, \"IBCF\")\n",
    "SVD <- Recommender(train_data, \"SVD\")\n",
    "SVDF <- Recommender(train_data, \"SVDF\")\n",
    "popular <- Recommender(train_data, \"popular\")\n",
    "UBCF <- Recommender(train_data, \"UBCF\")\n",
    "Random <- Recommender(train_data, \"RANDOM\")"
   ]
  },
  {
   "cell_type": "markdown",
   "metadata": {},
   "source": [
    "###### Predicting on the training data"
   ]
  },
  {
   "cell_type": "code",
   "execution_count": 8,
   "metadata": {
    "collapsed": true
   },
   "outputs": [],
   "source": [
    "ALS_predict <- predict(ALS, getData(Yelp_clt_schema, \"known\"), type=\"ratings\")\n",
    "IBCF_predict <- predict(IBCF, getData(Yelp_clt_schema, \"known\"), type=\"ratings\")\n",
    "SVD_predict <- predict(SVD, getData(Yelp_clt_schema, \"known\"), type=\"ratings\")\n",
    "SVDF_predict <- predict(SVDF, getData(Yelp_clt_schema, \"known\"), type=\"ratings\")\n",
    "popular_predict <- predict(popular, getData(Yelp_clt_schema, \"known\"), type=\"ratings\")\n",
    "UBCF_predict <- predict(UBCF, getData(Yelp_clt_schema, \"known\"), type=\"ratings\")\n",
    "Random_predict <- predict(Random, getData(Yelp_clt_schema, \"known\"), type=\"ratings\")"
   ]
  },
  {
   "cell_type": "code",
   "execution_count": 9,
   "metadata": {},
   "outputs": [
    {
     "data": {
      "text/html": [
       "<dl class=dl-horizontal>\n",
       "\t<dt>RMSE</dt>\n",
       "\t\t<dd>1.05957189571232</dd>\n",
       "\t<dt>MSE</dt>\n",
       "\t\t<dd>1.12269260218339</dd>\n",
       "\t<dt>MAE</dt>\n",
       "\t\t<dd>0.830842427441226</dd>\n",
       "</dl>\n"
      ],
      "text/latex": [
       "\\begin{description*}\n",
       "\\item[RMSE] 1.05957189571232\n",
       "\\item[MSE] 1.12269260218339\n",
       "\\item[MAE] 0.830842427441226\n",
       "\\end{description*}\n"
      ],
      "text/markdown": [
       "RMSE\n",
       ":   1.05957189571232MSE\n",
       ":   1.12269260218339MAE\n",
       ":   0.830842427441226\n",
       "\n"
      ],
      "text/plain": [
       "     RMSE       MSE       MAE \n",
       "1.0595719 1.1226926 0.8308424 "
      ]
     },
     "metadata": {},
     "output_type": "display_data"
    }
   ],
   "source": [
    "Error <- calcPredictionAccuracy(ALS_predict, test_data)\n",
    "Error"
   ]
  },
  {
   "cell_type": "code",
   "execution_count": 10,
   "metadata": {},
   "outputs": [
    {
     "data": {
      "text/html": [
       "<table>\n",
       "<thead><tr><th></th><th scope=col>RMSE</th><th scope=col>MSE</th><th scope=col>MAE</th></tr></thead>\n",
       "<tbody>\n",
       "\t<tr><th scope=row>ALS</th><td>1.0595719</td><td>1.1226926</td><td>0.8308424</td></tr>\n",
       "\t<tr><th scope=row>IBCF</th><td>1.3573350</td><td>1.8423583</td><td>1.0564788</td></tr>\n",
       "\t<tr><th scope=row>SVD</th><td>0.9850461</td><td>0.9703157</td><td>0.7713539</td></tr>\n",
       "\t<tr><th scope=row>SVDF</th><td>0.9355801</td><td>0.8753100</td><td>0.7208801</td></tr>\n",
       "\t<tr><th scope=row>Popular</th><td>0.9669785</td><td>0.9350475</td><td>0.7537956</td></tr>\n",
       "\t<tr><th scope=row>UBCF</th><td>0.9827622</td><td>0.9658214</td><td>0.7765417</td></tr>\n",
       "\t<tr><th scope=row>Random</th><td>1.2913855</td><td>1.6676765</td><td>1.0210280</td></tr>\n",
       "</tbody>\n",
       "</table>\n"
      ],
      "text/latex": [
       "\\begin{tabular}{r|lll}\n",
       "  & RMSE & MSE & MAE\\\\\n",
       "\\hline\n",
       "\tALS & 1.0595719 & 1.1226926 & 0.8308424\\\\\n",
       "\tIBCF & 1.3573350 & 1.8423583 & 1.0564788\\\\\n",
       "\tSVD & 0.9850461 & 0.9703157 & 0.7713539\\\\\n",
       "\tSVDF & 0.9355801 & 0.8753100 & 0.7208801\\\\\n",
       "\tPopular & 0.9669785 & 0.9350475 & 0.7537956\\\\\n",
       "\tUBCF & 0.9827622 & 0.9658214 & 0.7765417\\\\\n",
       "\tRandom & 1.2913855 & 1.6676765 & 1.0210280\\\\\n",
       "\\end{tabular}\n"
      ],
      "text/markdown": [
       "\n",
       "| <!--/--> | RMSE | MSE | MAE | \n",
       "|---|---|---|---|---|---|---|\n",
       "| ALS | 1.0595719 | 1.1226926 | 0.8308424 | \n",
       "| IBCF | 1.3573350 | 1.8423583 | 1.0564788 | \n",
       "| SVD | 0.9850461 | 0.9703157 | 0.7713539 | \n",
       "| SVDF | 0.9355801 | 0.8753100 | 0.7208801 | \n",
       "| Popular | 0.9669785 | 0.9350475 | 0.7537956 | \n",
       "| UBCF | 0.9827622 | 0.9658214 | 0.7765417 | \n",
       "| Random | 1.2913855 | 1.6676765 | 1.0210280 | \n",
       "\n",
       "\n"
      ],
      "text/plain": [
       "        RMSE      MSE       MAE      \n",
       "ALS     1.0595719 1.1226926 0.8308424\n",
       "IBCF    1.3573350 1.8423583 1.0564788\n",
       "SVD     0.9850461 0.9703157 0.7713539\n",
       "SVDF    0.9355801 0.8753100 0.7208801\n",
       "Popular 0.9669785 0.9350475 0.7537956\n",
       "UBCF    0.9827622 0.9658214 0.7765417\n",
       "Random  1.2913855 1.6676765 1.0210280"
      ]
     },
     "metadata": {},
     "output_type": "display_data"
    }
   ],
   "source": [
    "# Calculating prediction accuracy of recommender algorithms on test data\n",
    "Error <- rbind(\n",
    "            ALS = calcPredictionAccuracy(ALS_predict, test_data), \n",
    "            IBCF = calcPredictionAccuracy(IBCF_predict, test_data),\n",
    "            SVD = calcPredictionAccuracy(SVD_predict, test_data),\n",
    "            SVDF = calcPredictionAccuracy(SVDF_predict, test_data), \n",
    "            Popular = calcPredictionAccuracy(popular_predict, test_data), \n",
    "            UBCF = calcPredictionAccuracy(UBCF_predict,test_data),\n",
    "            Random = calcPredictionAccuracy(Random_predict, test_data)\n",
    "            )\n",
    "Error"
   ]
  },
  {
   "cell_type": "markdown",
   "metadata": {},
   "source": [
    "###### Ensemble recommender system (Using more than 1 recommedation method)"
   ]
  },
  {
   "cell_type": "code",
   "execution_count": 6,
   "metadata": {},
   "outputs": [
    {
     "data": {
      "text/html": [
       "<dl class=dl-horizontal>\n",
       "\t<dt>RMSE</dt>\n",
       "\t\t<dd>1.10844356419915</dd>\n",
       "\t<dt>MSE</dt>\n",
       "\t\t<dd>1.22864713501451</dd>\n",
       "\t<dt>MAE</dt>\n",
       "\t\t<dd>0.830029732457551</dd>\n",
       "</dl>\n"
      ],
      "text/latex": [
       "\\begin{description*}\n",
       "\\item[RMSE] 1.10844356419915\n",
       "\\item[MSE] 1.22864713501451\n",
       "\\item[MAE] 0.830029732457551\n",
       "\\end{description*}\n"
      ],
      "text/markdown": [
       "RMSE\n",
       ":   1.10844356419915MSE\n",
       ":   1.22864713501451MAE\n",
       ":   0.830029732457551\n",
       "\n"
      ],
      "text/plain": [
       "     RMSE       MSE       MAE \n",
       "1.1084436 1.2286471 0.8300297 "
      ]
     },
     "metadata": {},
     "output_type": "display_data"
    }
   ],
   "source": [
    "#Code is inspired from https://rdrr.io/cran/recommenderlab/man/HybridRecommender.html\n",
    "CB_ensemble<- HybridRecommender(\n",
    "                                Recommender(train_data, method = \"SVDF\"), \n",
    "                                Recommender(train_data, method = \"Popular\"), \n",
    "                                Recommender(train_data, method = \"UBCF\"), \n",
    "                                weights = c(0.5,0.3,0.2)\n",
    "                                )\n",
    "CB_ensemble_recommender <- getModel(CB_ensemble)\n",
    "CB_ensemble_predict <- predict(CB_ensemble, getData(Yelp_clt_schema, \"known\"), type=\"ratings\")\n",
    "Error <- calcPredictionAccuracy(CB_ensemble_predict, test_data)\n",
    "Error\n"
   ]
  },
  {
   "cell_type": "code",
   "execution_count": 12,
   "metadata": {},
   "outputs": [
    {
     "name": "stdout",
     "output_type": "stream",
     "text": [
      "ALS run fold/sample [model time/prediction time]\n",
      "\t 1  [0.08sec/12.12sec] \n"
     ]
    },
    {
     "data": {
      "text/plain": [
       "Evaluation results for 1 folds/samples using method 'ALS'."
      ]
     },
     "metadata": {},
     "output_type": "display_data"
    },
    {
     "data": {
      "text/html": [
       "<ol>\n",
       "\t<li><table>\n",
       "<thead><tr><th></th><th scope=col>TP</th><th scope=col>FP</th><th scope=col>FN</th><th scope=col>TN</th><th scope=col>precision</th><th scope=col>recall</th><th scope=col>TPR</th><th scope=col>FPR</th></tr></thead>\n",
       "<tbody>\n",
       "\t<tr><th scope=row>5</th><td>0.01675978 </td><td> 4.983240  </td><td>0.6536313  </td><td>266.3464   </td><td>0.003351955</td><td>0.02500000 </td><td>0.02500000 </td><td>0.01836598 </td></tr>\n",
       "\t<tr><th scope=row>10</th><td>0.02793296 </td><td> 9.972067  </td><td>0.6424581  </td><td>261.3575   </td><td>0.002793296</td><td>0.04166667 </td><td>0.04166667 </td><td>0.03675258 </td></tr>\n",
       "\t<tr><th scope=row>15</th><td>0.03910615 </td><td>14.960894  </td><td>0.6312849  </td><td>256.3687   </td><td>0.002607076</td><td>0.05833333 </td><td>0.05833333 </td><td>0.05513918 </td></tr>\n",
       "\t<tr><th scope=row>20</th><td>0.04469274 </td><td>19.955307  </td><td>0.6256983  </td><td>251.3743   </td><td>0.002234637</td><td>0.06666667 </td><td>0.06666667 </td><td>0.07354639 </td></tr>\n",
       "</tbody>\n",
       "</table>\n",
       "</li>\n",
       "</ol>\n"
      ],
      "text/latex": [
       "\\begin{enumerate}\n",
       "\\item \\begin{tabular}{r|llllllll}\n",
       "  & TP & FP & FN & TN & precision & recall & TPR & FPR\\\\\n",
       "\\hline\n",
       "\t5 & 0.01675978  &  4.983240   & 0.6536313   & 266.3464    & 0.003351955 & 0.02500000  & 0.02500000  & 0.01836598 \\\\\n",
       "\t10 & 0.02793296  &  9.972067   & 0.6424581   & 261.3575    & 0.002793296 & 0.04166667  & 0.04166667  & 0.03675258 \\\\\n",
       "\t15 & 0.03910615  & 14.960894   & 0.6312849   & 256.3687    & 0.002607076 & 0.05833333  & 0.05833333  & 0.05513918 \\\\\n",
       "\t20 & 0.04469274  & 19.955307   & 0.6256983   & 251.3743    & 0.002234637 & 0.06666667  & 0.06666667  & 0.07354639 \\\\\n",
       "\\end{tabular}\n",
       "\n",
       "\\end{enumerate}\n"
      ],
      "text/markdown": [
       "1. \n",
       "| <!--/--> | TP | FP | FN | TN | precision | recall | TPR | FPR | \n",
       "|---|---|---|---|\n",
       "| 5 | 0.01675978  |  4.983240   | 0.6536313   | 266.3464    | 0.003351955 | 0.02500000  | 0.02500000  | 0.01836598  | \n",
       "| 10 | 0.02793296  |  9.972067   | 0.6424581   | 261.3575    | 0.002793296 | 0.04166667  | 0.04166667  | 0.03675258  | \n",
       "| 15 | 0.03910615  | 14.960894   | 0.6312849   | 256.3687    | 0.002607076 | 0.05833333  | 0.05833333  | 0.05513918  | \n",
       "| 20 | 0.04469274  | 19.955307   | 0.6256983   | 251.3743    | 0.002234637 | 0.06666667  | 0.06666667  | 0.07354639  | \n",
       "\n",
       "\n",
       "\n",
       "\n",
       "\n"
      ],
      "text/plain": [
       "[[1]]\n",
       "           TP        FP        FN       TN   precision     recall        TPR\n",
       "5  0.01675978  4.983240 0.6536313 266.3464 0.003351955 0.02500000 0.02500000\n",
       "10 0.02793296  9.972067 0.6424581 261.3575 0.002793296 0.04166667 0.04166667\n",
       "15 0.03910615 14.960894 0.6312849 256.3687 0.002607076 0.05833333 0.05833333\n",
       "20 0.04469274 19.955307 0.6256983 251.3743 0.002234637 0.06666667 0.06666667\n",
       "          FPR\n",
       "5  0.01836598\n",
       "10 0.03675258\n",
       "15 0.05513918\n",
       "20 0.07354639\n"
      ]
     },
     "metadata": {},
     "output_type": "display_data"
    },
    {
     "data": {
      "image/png": "[encoded data removed]",
      "text/plain": [
       "plot without title"
      ]
     },
     "metadata": {},
     "output_type": "display_data"
    }
   ],
   "source": [
    "#Setting the options for plot\n",
    "options(repr.plot.width=4, repr.plot.height=3)\n",
    "#Confustion Matrix for ALS\n",
    "ALS_topNList <- evaluate(Yelp_clt_schema, method=\"ALS\", type = \"topNList\", n=c(5,10,15,20))\n",
    "ALS_topNList\n",
    "getConfusionMatrix(ALS_topNList)\n",
    "plot(ALS_topNList , annotate=TRUE)"
   ]
  },
  {
   "cell_type": "code",
   "execution_count": 13,
   "metadata": {},
   "outputs": [
    {
     "name": "stdout",
     "output_type": "stream",
     "text": [
      "IBCF run fold/sample [model time/prediction time]\n",
      "\t 1  [0.22sec/0.28sec] \n"
     ]
    },
    {
     "data": {
      "text/plain": [
       "Evaluation results for 1 folds/samples using method 'IBCF'."
      ]
     },
     "metadata": {},
     "output_type": "display_data"
    },
    {
     "data": {
      "text/html": [
       "<ol>\n",
       "\t<li><table>\n",
       "<thead><tr><th></th><th scope=col>TP</th><th scope=col>FP</th><th scope=col>FN</th><th scope=col>TN</th><th scope=col>precision</th><th scope=col>recall</th><th scope=col>TPR</th><th scope=col>FPR</th></tr></thead>\n",
       "<tbody>\n",
       "\t<tr><th scope=row>5</th><td>0.01117318 </td><td> 4.932961  </td><td>0.6592179  </td><td>266.3966   </td><td>0.002259887</td><td>0.01666667 </td><td>0.01666667 </td><td>0.01818045 </td></tr>\n",
       "\t<tr><th scope=row>10</th><td>0.02234637 </td><td> 9.865922  </td><td>0.6480447  </td><td>261.4637   </td><td>0.002259887</td><td>0.03333333 </td><td>0.03333333 </td><td>0.03636090 </td></tr>\n",
       "\t<tr><th scope=row>15</th><td>0.03910615 </td><td>14.793296  </td><td>0.6312849  </td><td>256.5363   </td><td>0.002636535</td><td>0.05833333 </td><td>0.05833333 </td><td>0.05452073 </td></tr>\n",
       "\t<tr><th scope=row>20</th><td>0.04469274 </td><td>19.720670  </td><td>0.6256983  </td><td>251.6089   </td><td>0.002259887</td><td>0.06666667 </td><td>0.06666667 </td><td>0.07268057 </td></tr>\n",
       "</tbody>\n",
       "</table>\n",
       "</li>\n",
       "</ol>\n"
      ],
      "text/latex": [
       "\\begin{enumerate}\n",
       "\\item \\begin{tabular}{r|llllllll}\n",
       "  & TP & FP & FN & TN & precision & recall & TPR & FPR\\\\\n",
       "\\hline\n",
       "\t5 & 0.01117318  &  4.932961   & 0.6592179   & 266.3966    & 0.002259887 & 0.01666667  & 0.01666667  & 0.01818045 \\\\\n",
       "\t10 & 0.02234637  &  9.865922   & 0.6480447   & 261.4637    & 0.002259887 & 0.03333333  & 0.03333333  & 0.03636090 \\\\\n",
       "\t15 & 0.03910615  & 14.793296   & 0.6312849   & 256.5363    & 0.002636535 & 0.05833333  & 0.05833333  & 0.05452073 \\\\\n",
       "\t20 & 0.04469274  & 19.720670   & 0.6256983   & 251.6089    & 0.002259887 & 0.06666667  & 0.06666667  & 0.07268057 \\\\\n",
       "\\end{tabular}\n",
       "\n",
       "\\end{enumerate}\n"
      ],
      "text/markdown": [
       "1. \n",
       "| <!--/--> | TP | FP | FN | TN | precision | recall | TPR | FPR | \n",
       "|---|---|---|---|\n",
       "| 5 | 0.01117318  |  4.932961   | 0.6592179   | 266.3966    | 0.002259887 | 0.01666667  | 0.01666667  | 0.01818045  | \n",
       "| 10 | 0.02234637  |  9.865922   | 0.6480447   | 261.4637    | 0.002259887 | 0.03333333  | 0.03333333  | 0.03636090  | \n",
       "| 15 | 0.03910615  | 14.793296   | 0.6312849   | 256.5363    | 0.002636535 | 0.05833333  | 0.05833333  | 0.05452073  | \n",
       "| 20 | 0.04469274  | 19.720670   | 0.6256983   | 251.6089    | 0.002259887 | 0.06666667  | 0.06666667  | 0.07268057  | \n",
       "\n",
       "\n",
       "\n",
       "\n",
       "\n"
      ],
      "text/plain": [
       "[[1]]\n",
       "           TP        FP        FN       TN   precision     recall        TPR\n",
       "5  0.01117318  4.932961 0.6592179 266.3966 0.002259887 0.01666667 0.01666667\n",
       "10 0.02234637  9.865922 0.6480447 261.4637 0.002259887 0.03333333 0.03333333\n",
       "15 0.03910615 14.793296 0.6312849 256.5363 0.002636535 0.05833333 0.05833333\n",
       "20 0.04469274 19.720670 0.6256983 251.6089 0.002259887 0.06666667 0.06666667\n",
       "          FPR\n",
       "5  0.01818045\n",
       "10 0.03636090\n",
       "15 0.05452073\n",
       "20 0.07268057\n"
      ]
     },
     "metadata": {},
     "output_type": "display_data"
    },
    {
     "data": {
      "image/png": "[encoded data removed]",
      "text/plain": [
       "plot without title"
      ]
     },
     "metadata": {},
     "output_type": "display_data"
    }
   ],
   "source": [
    "#Confustion Matrix for IBCF\n",
    "IBCF_topNList <- evaluate(Yelp_clt_schema, method=\"IBCF\", type = \"topNList\", n=c(5,10,15,20))\n",
    "IBCF_topNList\n",
    "getConfusionMatrix(IBCF_topNList)\n",
    "plot(IBCF_topNList, annotate=TRUE)"
   ]
  },
  {
   "cell_type": "code",
   "execution_count": 14,
   "metadata": {},
   "outputs": [
    {
     "name": "stdout",
     "output_type": "stream",
     "text": [
      "SVD run fold/sample [model time/prediction time]\n",
      "\t 1  [0.48sec/0.09sec] \n"
     ]
    },
    {
     "data": {
      "text/plain": [
       "Evaluation results for 1 folds/samples using method 'SVD'."
      ]
     },
     "metadata": {},
     "output_type": "display_data"
    },
    {
     "data": {
      "text/html": [
       "<ol>\n",
       "\t<li><table>\n",
       "<thead><tr><th></th><th scope=col>TP</th><th scope=col>FP</th><th scope=col>FN</th><th scope=col>TN</th><th scope=col>precision</th><th scope=col>recall</th><th scope=col>TPR</th><th scope=col>FPR</th></tr></thead>\n",
       "<tbody>\n",
       "\t<tr><th scope=row>5</th><td>0.02793296 </td><td> 4.972067  </td><td>0.6424581  </td><td>266.3575   </td><td>0.005586592</td><td>0.04166667 </td><td>0.04166667 </td><td>0.01832475 </td></tr>\n",
       "\t<tr><th scope=row>10</th><td>0.04469274 </td><td> 9.955307  </td><td>0.6256983  </td><td>261.3743   </td><td>0.004469274</td><td>0.06666667 </td><td>0.06666667 </td><td>0.03669074 </td></tr>\n",
       "\t<tr><th scope=row>15</th><td>0.06145251 </td><td>14.938547  </td><td>0.6089385  </td><td>256.3911   </td><td>0.004096834</td><td>0.09166667 </td><td>0.09166667 </td><td>0.05505672 </td></tr>\n",
       "\t<tr><th scope=row>20</th><td>0.07821229 </td><td>19.921788  </td><td>0.5921788  </td><td>251.4078   </td><td>0.003910615</td><td>0.11666667 </td><td>0.11666667 </td><td>0.07342270 </td></tr>\n",
       "</tbody>\n",
       "</table>\n",
       "</li>\n",
       "</ol>\n"
      ],
      "text/latex": [
       "\\begin{enumerate}\n",
       "\\item \\begin{tabular}{r|llllllll}\n",
       "  & TP & FP & FN & TN & precision & recall & TPR & FPR\\\\\n",
       "\\hline\n",
       "\t5 & 0.02793296  &  4.972067   & 0.6424581   & 266.3575    & 0.005586592 & 0.04166667  & 0.04166667  & 0.01832475 \\\\\n",
       "\t10 & 0.04469274  &  9.955307   & 0.6256983   & 261.3743    & 0.004469274 & 0.06666667  & 0.06666667  & 0.03669074 \\\\\n",
       "\t15 & 0.06145251  & 14.938547   & 0.6089385   & 256.3911    & 0.004096834 & 0.09166667  & 0.09166667  & 0.05505672 \\\\\n",
       "\t20 & 0.07821229  & 19.921788   & 0.5921788   & 251.4078    & 0.003910615 & 0.11666667  & 0.11666667  & 0.07342270 \\\\\n",
       "\\end{tabular}\n",
       "\n",
       "\\end{enumerate}\n"
      ],
      "text/markdown": [
       "1. \n",
       "| <!--/--> | TP | FP | FN | TN | precision | recall | TPR | FPR | \n",
       "|---|---|---|---|\n",
       "| 5 | 0.02793296  |  4.972067   | 0.6424581   | 266.3575    | 0.005586592 | 0.04166667  | 0.04166667  | 0.01832475  | \n",
       "| 10 | 0.04469274  |  9.955307   | 0.6256983   | 261.3743    | 0.004469274 | 0.06666667  | 0.06666667  | 0.03669074  | \n",
       "| 15 | 0.06145251  | 14.938547   | 0.6089385   | 256.3911    | 0.004096834 | 0.09166667  | 0.09166667  | 0.05505672  | \n",
       "| 20 | 0.07821229  | 19.921788   | 0.5921788   | 251.4078    | 0.003910615 | 0.11666667  | 0.11666667  | 0.07342270  | \n",
       "\n",
       "\n",
       "\n",
       "\n",
       "\n"
      ],
      "text/plain": [
       "[[1]]\n",
       "           TP        FP        FN       TN   precision     recall        TPR\n",
       "5  0.02793296  4.972067 0.6424581 266.3575 0.005586592 0.04166667 0.04166667\n",
       "10 0.04469274  9.955307 0.6256983 261.3743 0.004469274 0.06666667 0.06666667\n",
       "15 0.06145251 14.938547 0.6089385 256.3911 0.004096834 0.09166667 0.09166667\n",
       "20 0.07821229 19.921788 0.5921788 251.4078 0.003910615 0.11666667 0.11666667\n",
       "          FPR\n",
       "5  0.01832475\n",
       "10 0.03669074\n",
       "15 0.05505672\n",
       "20 0.07342270\n"
      ]
     },
     "metadata": {},
     "output_type": "display_data"
    },
    {
     "data": {
      "image/png": "[encoded data removed]",
      "text/plain": [
       "plot without title"
      ]
     },
     "metadata": {},
     "output_type": "display_data"
    }
   ],
   "source": [
    "#Confustion Matrix for SVD\n",
    "SVD_topNList <- evaluate(Yelp_clt_schema, method=\"SVD\", type = \"topNList\", n=c(5,10,15,20))\n",
    "SVD_topNList\n",
    "getConfusionMatrix(SVD_topNList)\n",
    "plot(SVD_topNList, annotate=TRUE)"
   ]
  },
  {
   "cell_type": "code",
   "execution_count": 15,
   "metadata": {
    "scrolled": false
   },
   "outputs": [
    {
     "name": "stdout",
     "output_type": "stream",
     "text": [
      "SVDF run fold/sample [model time/prediction time]\n",
      "\t 1  [22.01sec/2.23sec] \n"
     ]
    },
    {
     "data": {
      "text/plain": [
       "Evaluation results for 1 folds/samples using method 'SVDF'."
      ]
     },
     "metadata": {},
     "output_type": "display_data"
    },
    {
     "data": {
      "text/html": [
       "<ol>\n",
       "\t<li><table>\n",
       "<thead><tr><th></th><th scope=col>TP</th><th scope=col>FP</th><th scope=col>FN</th><th scope=col>TN</th><th scope=col>precision</th><th scope=col>recall</th><th scope=col>TPR</th><th scope=col>FPR</th></tr></thead>\n",
       "<tbody>\n",
       "\t<tr><th scope=row>5</th><td>0.01117318 </td><td> 4.988827  </td><td>0.6592179  </td><td>266.3408   </td><td>0.002234637</td><td>0.01666667 </td><td>0.01666667 </td><td>0.01838660 </td></tr>\n",
       "\t<tr><th scope=row>10</th><td>0.02234637 </td><td> 9.977654  </td><td>0.6480447  </td><td>261.3520   </td><td>0.002234637</td><td>0.03333333 </td><td>0.03333333 </td><td>0.03677319 </td></tr>\n",
       "\t<tr><th scope=row>15</th><td>0.03910615 </td><td>14.960894  </td><td>0.6312849  </td><td>256.3687   </td><td>0.002607076</td><td>0.05833333 </td><td>0.05833333 </td><td>0.05513918 </td></tr>\n",
       "\t<tr><th scope=row>20</th><td>0.06145251 </td><td>19.938547  </td><td>0.6089385  </td><td>251.3911   </td><td>0.003072626</td><td>0.09166667 </td><td>0.09166667 </td><td>0.07348454 </td></tr>\n",
       "</tbody>\n",
       "</table>\n",
       "</li>\n",
       "</ol>\n"
      ],
      "text/latex": [
       "\\begin{enumerate}\n",
       "\\item \\begin{tabular}{r|llllllll}\n",
       "  & TP & FP & FN & TN & precision & recall & TPR & FPR\\\\\n",
       "\\hline\n",
       "\t5 & 0.01117318  &  4.988827   & 0.6592179   & 266.3408    & 0.002234637 & 0.01666667  & 0.01666667  & 0.01838660 \\\\\n",
       "\t10 & 0.02234637  &  9.977654   & 0.6480447   & 261.3520    & 0.002234637 & 0.03333333  & 0.03333333  & 0.03677319 \\\\\n",
       "\t15 & 0.03910615  & 14.960894   & 0.6312849   & 256.3687    & 0.002607076 & 0.05833333  & 0.05833333  & 0.05513918 \\\\\n",
       "\t20 & 0.06145251  & 19.938547   & 0.6089385   & 251.3911    & 0.003072626 & 0.09166667  & 0.09166667  & 0.07348454 \\\\\n",
       "\\end{tabular}\n",
       "\n",
       "\\end{enumerate}\n"
      ],
      "text/markdown": [
       "1. \n",
       "| <!--/--> | TP | FP | FN | TN | precision | recall | TPR | FPR | \n",
       "|---|---|---|---|\n",
       "| 5 | 0.01117318  |  4.988827   | 0.6592179   | 266.3408    | 0.002234637 | 0.01666667  | 0.01666667  | 0.01838660  | \n",
       "| 10 | 0.02234637  |  9.977654   | 0.6480447   | 261.3520    | 0.002234637 | 0.03333333  | 0.03333333  | 0.03677319  | \n",
       "| 15 | 0.03910615  | 14.960894   | 0.6312849   | 256.3687    | 0.002607076 | 0.05833333  | 0.05833333  | 0.05513918  | \n",
       "| 20 | 0.06145251  | 19.938547   | 0.6089385   | 251.3911    | 0.003072626 | 0.09166667  | 0.09166667  | 0.07348454  | \n",
       "\n",
       "\n",
       "\n",
       "\n",
       "\n"
      ],
      "text/plain": [
       "[[1]]\n",
       "           TP        FP        FN       TN   precision     recall        TPR\n",
       "5  0.01117318  4.988827 0.6592179 266.3408 0.002234637 0.01666667 0.01666667\n",
       "10 0.02234637  9.977654 0.6480447 261.3520 0.002234637 0.03333333 0.03333333\n",
       "15 0.03910615 14.960894 0.6312849 256.3687 0.002607076 0.05833333 0.05833333\n",
       "20 0.06145251 19.938547 0.6089385 251.3911 0.003072626 0.09166667 0.09166667\n",
       "          FPR\n",
       "5  0.01838660\n",
       "10 0.03677319\n",
       "15 0.05513918\n",
       "20 0.07348454\n"
      ]
     },
     "metadata": {},
     "output_type": "display_data"
    },
    {
     "data": {
      "image/png": "[encoded data removed]",
      "text/plain": [
       "plot without title"
      ]
     },
     "metadata": {},
     "output_type": "display_data"
    }
   ],
   "source": [
    "#Confustion Matrix for SVDF\n",
    "SVDF_topNList <- evaluate(Yelp_clt_schema, method=\"SVDF\", type = \"topNList\", n=c(5,10,15,20))\n",
    "SVDF_topNList\n",
    "getConfusionMatrix(SVDF_topNList)\n",
    "plot(SVDF_topNList, annotate=TRUE)"
   ]
  },
  {
   "cell_type": "code",
   "execution_count": 16,
   "metadata": {},
   "outputs": [
    {
     "name": "stdout",
     "output_type": "stream",
     "text": [
      "popular run fold/sample [model time/prediction time]\n",
      "\t 1  [0sec/0.34sec] \n"
     ]
    },
    {
     "data": {
      "text/plain": [
       "Evaluation results for 1 folds/samples using method 'POPULAR'."
      ]
     },
     "metadata": {},
     "output_type": "display_data"
    },
    {
     "data": {
      "text/html": [
       "<ol>\n",
       "\t<li><table>\n",
       "<thead><tr><th></th><th scope=col>TP</th><th scope=col>FP</th><th scope=col>FN</th><th scope=col>TN</th><th scope=col>precision</th><th scope=col>recall</th><th scope=col>TPR</th><th scope=col>FPR</th></tr></thead>\n",
       "<tbody>\n",
       "\t<tr><th scope=row>5</th><td>0.02234637 </td><td> 4.977654  </td><td>0.6480447  </td><td>266.3520   </td><td>0.004469274</td><td>0.03333333 </td><td>0.03333333 </td><td>0.01834537 </td></tr>\n",
       "\t<tr><th scope=row>10</th><td>0.06145251 </td><td> 9.938547  </td><td>0.6089385  </td><td>261.3911   </td><td>0.006145251</td><td>0.09166667 </td><td>0.09166667 </td><td>0.03662889 </td></tr>\n",
       "\t<tr><th scope=row>15</th><td>0.06703911 </td><td>14.932961  </td><td>0.6033520  </td><td>256.3966   </td><td>0.004469274</td><td>0.10000000 </td><td>0.10000000 </td><td>0.05503610 </td></tr>\n",
       "\t<tr><th scope=row>20</th><td>0.08379888 </td><td>19.916201  </td><td>0.5865922  </td><td>251.4134   </td><td>0.004189944</td><td>0.12500000 </td><td>0.12500000 </td><td>0.07340209 </td></tr>\n",
       "</tbody>\n",
       "</table>\n",
       "</li>\n",
       "</ol>\n"
      ],
      "text/latex": [
       "\\begin{enumerate}\n",
       "\\item \\begin{tabular}{r|llllllll}\n",
       "  & TP & FP & FN & TN & precision & recall & TPR & FPR\\\\\n",
       "\\hline\n",
       "\t5 & 0.02234637  &  4.977654   & 0.6480447   & 266.3520    & 0.004469274 & 0.03333333  & 0.03333333  & 0.01834537 \\\\\n",
       "\t10 & 0.06145251  &  9.938547   & 0.6089385   & 261.3911    & 0.006145251 & 0.09166667  & 0.09166667  & 0.03662889 \\\\\n",
       "\t15 & 0.06703911  & 14.932961   & 0.6033520   & 256.3966    & 0.004469274 & 0.10000000  & 0.10000000  & 0.05503610 \\\\\n",
       "\t20 & 0.08379888  & 19.916201   & 0.5865922   & 251.4134    & 0.004189944 & 0.12500000  & 0.12500000  & 0.07340209 \\\\\n",
       "\\end{tabular}\n",
       "\n",
       "\\end{enumerate}\n"
      ],
      "text/markdown": [
       "1. \n",
       "| <!--/--> | TP | FP | FN | TN | precision | recall | TPR | FPR | \n",
       "|---|---|---|---|\n",
       "| 5 | 0.02234637  |  4.977654   | 0.6480447   | 266.3520    | 0.004469274 | 0.03333333  | 0.03333333  | 0.01834537  | \n",
       "| 10 | 0.06145251  |  9.938547   | 0.6089385   | 261.3911    | 0.006145251 | 0.09166667  | 0.09166667  | 0.03662889  | \n",
       "| 15 | 0.06703911  | 14.932961   | 0.6033520   | 256.3966    | 0.004469274 | 0.10000000  | 0.10000000  | 0.05503610  | \n",
       "| 20 | 0.08379888  | 19.916201   | 0.5865922   | 251.4134    | 0.004189944 | 0.12500000  | 0.12500000  | 0.07340209  | \n",
       "\n",
       "\n",
       "\n",
       "\n",
       "\n"
      ],
      "text/plain": [
       "[[1]]\n",
       "           TP        FP        FN       TN   precision     recall        TPR\n",
       "5  0.02234637  4.977654 0.6480447 266.3520 0.004469274 0.03333333 0.03333333\n",
       "10 0.06145251  9.938547 0.6089385 261.3911 0.006145251 0.09166667 0.09166667\n",
       "15 0.06703911 14.932961 0.6033520 256.3966 0.004469274 0.10000000 0.10000000\n",
       "20 0.08379888 19.916201 0.5865922 251.4134 0.004189944 0.12500000 0.12500000\n",
       "          FPR\n",
       "5  0.01834537\n",
       "10 0.03662889\n",
       "15 0.05503610\n",
       "20 0.07340209\n"
      ]
     },
     "metadata": {},
     "output_type": "display_data"
    },
    {
     "data": {
      "image/png": "[encoded data removed]",
      "text/plain": [
       "plot without title"
      ]
     },
     "metadata": {},
     "output_type": "display_data"
    }
   ],
   "source": [
    "#Confustion Matrix for popular\n",
    "popular_topNList <- evaluate(Yelp_clt_schema, method=\"popular\", type = \"topNList\", n=c(5,10,15,20))\n",
    "popular_topNList\n",
    "getConfusionMatrix(popular_topNList)\n",
    "plot(popular_topNList, annotate=TRUE)"
   ]
  },
  {
   "cell_type": "code",
   "execution_count": 17,
   "metadata": {},
   "outputs": [
    {
     "name": "stdout",
     "output_type": "stream",
     "text": [
      "UBCF run fold/sample [model time/prediction time]\n",
      "\t 1  [0sec/0.31sec] \n"
     ]
    },
    {
     "data": {
      "text/plain": [
       "Evaluation results for 1 folds/samples using method 'UBCF'."
      ]
     },
     "metadata": {},
     "output_type": "display_data"
    },
    {
     "data": {
      "text/html": [
       "<ol>\n",
       "\t<li><table>\n",
       "<thead><tr><th></th><th scope=col>TP</th><th scope=col>FP</th><th scope=col>FN</th><th scope=col>TN</th><th scope=col>precision</th><th scope=col>recall</th><th scope=col>TPR</th><th scope=col>FPR</th></tr></thead>\n",
       "<tbody>\n",
       "\t<tr><th scope=row>5</th><td>0.01675978 </td><td> 4.983240  </td><td>0.6536313  </td><td>266.3464   </td><td>0.003351955</td><td>0.0250000  </td><td>0.0250000  </td><td>0.01836598 </td></tr>\n",
       "\t<tr><th scope=row>10</th><td>0.05027933 </td><td> 9.949721  </td><td>0.6201117  </td><td>261.3799   </td><td>0.005027933</td><td>0.0750000  </td><td>0.0750000  </td><td>0.03667012 </td></tr>\n",
       "\t<tr><th scope=row>15</th><td>0.06703911 </td><td>14.932961  </td><td>0.6033520  </td><td>256.3966   </td><td>0.004469274</td><td>0.1000000  </td><td>0.1000000  </td><td>0.05503610 </td></tr>\n",
       "\t<tr><th scope=row>20</th><td>0.09497207 </td><td>19.905028  </td><td>0.5754190  </td><td>251.4246   </td><td>0.004748603</td><td>0.1416667  </td><td>0.1416667  </td><td>0.07336086 </td></tr>\n",
       "</tbody>\n",
       "</table>\n",
       "</li>\n",
       "</ol>\n"
      ],
      "text/latex": [
       "\\begin{enumerate}\n",
       "\\item \\begin{tabular}{r|llllllll}\n",
       "  & TP & FP & FN & TN & precision & recall & TPR & FPR\\\\\n",
       "\\hline\n",
       "\t5 & 0.01675978  &  4.983240   & 0.6536313   & 266.3464    & 0.003351955 & 0.0250000   & 0.0250000   & 0.01836598 \\\\\n",
       "\t10 & 0.05027933  &  9.949721   & 0.6201117   & 261.3799    & 0.005027933 & 0.0750000   & 0.0750000   & 0.03667012 \\\\\n",
       "\t15 & 0.06703911  & 14.932961   & 0.6033520   & 256.3966    & 0.004469274 & 0.1000000   & 0.1000000   & 0.05503610 \\\\\n",
       "\t20 & 0.09497207  & 19.905028   & 0.5754190   & 251.4246    & 0.004748603 & 0.1416667   & 0.1416667   & 0.07336086 \\\\\n",
       "\\end{tabular}\n",
       "\n",
       "\\end{enumerate}\n"
      ],
      "text/markdown": [
       "1. \n",
       "| <!--/--> | TP | FP | FN | TN | precision | recall | TPR | FPR | \n",
       "|---|---|---|---|\n",
       "| 5 | 0.01675978  |  4.983240   | 0.6536313   | 266.3464    | 0.003351955 | 0.0250000   | 0.0250000   | 0.01836598  | \n",
       "| 10 | 0.05027933  |  9.949721   | 0.6201117   | 261.3799    | 0.005027933 | 0.0750000   | 0.0750000   | 0.03667012  | \n",
       "| 15 | 0.06703911  | 14.932961   | 0.6033520   | 256.3966    | 0.004469274 | 0.1000000   | 0.1000000   | 0.05503610  | \n",
       "| 20 | 0.09497207  | 19.905028   | 0.5754190   | 251.4246    | 0.004748603 | 0.1416667   | 0.1416667   | 0.07336086  | \n",
       "\n",
       "\n",
       "\n",
       "\n",
       "\n"
      ],
      "text/plain": [
       "[[1]]\n",
       "           TP        FP        FN       TN   precision    recall       TPR\n",
       "5  0.01675978  4.983240 0.6536313 266.3464 0.003351955 0.0250000 0.0250000\n",
       "10 0.05027933  9.949721 0.6201117 261.3799 0.005027933 0.0750000 0.0750000\n",
       "15 0.06703911 14.932961 0.6033520 256.3966 0.004469274 0.1000000 0.1000000\n",
       "20 0.09497207 19.905028 0.5754190 251.4246 0.004748603 0.1416667 0.1416667\n",
       "          FPR\n",
       "5  0.01836598\n",
       "10 0.03667012\n",
       "15 0.05503610\n",
       "20 0.07336086\n"
      ]
     },
     "metadata": {},
     "output_type": "display_data"
    },
    {
     "data": {
      "image/png": "[encoded data removed]",
      "text/plain": [
       "plot without title"
      ]
     },
     "metadata": {},
     "output_type": "display_data"
    }
   ],
   "source": [
    "#Confustion Matrix for UBCF\n",
    "UBCF_topNList <- evaluate(Yelp_clt_schema, method=\"UBCF\", type = \"topNList\", n=c(5,10,15,20))\n",
    "UBCF_topNList\n",
    "getConfusionMatrix(UBCF_topNList)\n",
    "plot(UBCF_topNList, annotate=TRUE)"
   ]
  },
  {
   "cell_type": "code",
   "execution_count": 18,
   "metadata": {},
   "outputs": [
    {
     "name": "stdout",
     "output_type": "stream",
     "text": [
      "Random run fold/sample [model time/prediction time]\n",
      "\t 1  [0.01sec/0.11sec] \n"
     ]
    },
    {
     "data": {
      "text/plain": [
       "Evaluation results for 1 folds/samples using method 'RANDOM'."
      ]
     },
     "metadata": {},
     "output_type": "display_data"
    },
    {
     "data": {
      "text/html": [
       "<ol>\n",
       "\t<li><table>\n",
       "<thead><tr><th></th><th scope=col>TP</th><th scope=col>FP</th><th scope=col>FN</th><th scope=col>TN</th><th scope=col>precision</th><th scope=col>recall</th><th scope=col>TPR</th><th scope=col>FPR</th></tr></thead>\n",
       "<tbody>\n",
       "\t<tr><th scope=row>5</th><td>0.00000000  </td><td> 5.000000   </td><td>0.6703911   </td><td>266.3296    </td><td>0.0000000000</td><td>0.00000000  </td><td>0.00000000  </td><td>0.01842783  </td></tr>\n",
       "\t<tr><th scope=row>10</th><td>0.01117318  </td><td> 9.988827   </td><td>0.6592179   </td><td>261.3408    </td><td>0.0011173184</td><td>0.01666667  </td><td>0.01666667  </td><td>0.03681442  </td></tr>\n",
       "\t<tr><th scope=row>15</th><td>0.01117318  </td><td>14.988827   </td><td>0.6592179   </td><td>256.3408    </td><td>0.0007448790</td><td>0.01666667  </td><td>0.01666667  </td><td>0.05524225  </td></tr>\n",
       "\t<tr><th scope=row>20</th><td>0.01675978  </td><td>19.983240   </td><td>0.6536313   </td><td>251.3464    </td><td>0.0008379888</td><td>0.02500000  </td><td>0.02500000  </td><td>0.07364946  </td></tr>\n",
       "</tbody>\n",
       "</table>\n",
       "</li>\n",
       "</ol>\n"
      ],
      "text/latex": [
       "\\begin{enumerate}\n",
       "\\item \\begin{tabular}{r|llllllll}\n",
       "  & TP & FP & FN & TN & precision & recall & TPR & FPR\\\\\n",
       "\\hline\n",
       "\t5 & 0.00000000   &  5.000000    & 0.6703911    & 266.3296     & 0.0000000000 & 0.00000000   & 0.00000000   & 0.01842783  \\\\\n",
       "\t10 & 0.01117318   &  9.988827    & 0.6592179    & 261.3408     & 0.0011173184 & 0.01666667   & 0.01666667   & 0.03681442  \\\\\n",
       "\t15 & 0.01117318   & 14.988827    & 0.6592179    & 256.3408     & 0.0007448790 & 0.01666667   & 0.01666667   & 0.05524225  \\\\\n",
       "\t20 & 0.01675978   & 19.983240    & 0.6536313    & 251.3464     & 0.0008379888 & 0.02500000   & 0.02500000   & 0.07364946  \\\\\n",
       "\\end{tabular}\n",
       "\n",
       "\\end{enumerate}\n"
      ],
      "text/markdown": [
       "1. \n",
       "| <!--/--> | TP | FP | FN | TN | precision | recall | TPR | FPR | \n",
       "|---|---|---|---|\n",
       "| 5 | 0.00000000   |  5.000000    | 0.6703911    | 266.3296     | 0.0000000000 | 0.00000000   | 0.00000000   | 0.01842783   | \n",
       "| 10 | 0.01117318   |  9.988827    | 0.6592179    | 261.3408     | 0.0011173184 | 0.01666667   | 0.01666667   | 0.03681442   | \n",
       "| 15 | 0.01117318   | 14.988827    | 0.6592179    | 256.3408     | 0.0007448790 | 0.01666667   | 0.01666667   | 0.05524225   | \n",
       "| 20 | 0.01675978   | 19.983240    | 0.6536313    | 251.3464     | 0.0008379888 | 0.02500000   | 0.02500000   | 0.07364946   | \n",
       "\n",
       "\n",
       "\n",
       "\n",
       "\n"
      ],
      "text/plain": [
       "[[1]]\n",
       "           TP        FP        FN       TN    precision     recall        TPR\n",
       "5  0.00000000  5.000000 0.6703911 266.3296 0.0000000000 0.00000000 0.00000000\n",
       "10 0.01117318  9.988827 0.6592179 261.3408 0.0011173184 0.01666667 0.01666667\n",
       "15 0.01117318 14.988827 0.6592179 256.3408 0.0007448790 0.01666667 0.01666667\n",
       "20 0.01675978 19.983240 0.6536313 251.3464 0.0008379888 0.02500000 0.02500000\n",
       "          FPR\n",
       "5  0.01842783\n",
       "10 0.03681442\n",
       "15 0.05524225\n",
       "20 0.07364946\n"
      ]
     },
     "metadata": {},
     "output_type": "display_data"
    },
    {
     "data": {
      "image/png": "[encoded data removed]",
      "text/plain": [
       "plot without title"
      ]
     },
     "metadata": {},
     "output_type": "display_data"
    }
   ],
   "source": [
    "#Confustion Matrix for Random based recommender system\n",
    "Random_topNList <- evaluate(Yelp_clt_schema, method=\"Random\", type = \"topNList\", n=c(5,10,15,20))\n",
    "Random_topNList\n",
    "getConfusionMatrix(Random_topNList)\n",
    "plot(Random_topNList, annotate=TRUE)"
   ]
  },
  {
   "cell_type": "markdown",
   "metadata": {},
   "source": [
    "References:\n",
    "* http://bigdata-doctor.com/recommender-systems-101-practical-example-in-r/\n",
    "\n",
    "* https://www.r-bloggers.com/recommender-systems-101-a-step-by-step-practical-example-in-r/\n",
    "\n",
    "* https://cran.r-project.org/web/packages/recommenderlab/recommenderlab.pdf"
   ]
  },
  {
   "cell_type": "code",
   "execution_count": null,
   "metadata": {
    "collapsed": true
   },
   "outputs": [],
   "source": []
  }
 ],
 "metadata": {
  "kernelspec": {
   "display_name": "R",
   "language": "R",
   "name": "ir"
  },
  "language_info": {
   "codemirror_mode": "r",
   "file_extension": ".r",
   "mimetype": "text/x-r-source",
   "name": "R",
   "pygments_lexer": "r",
   "version": "3.4.2"
  }
 },
 "nbformat": 4,
 "nbformat_minor": 2
}
